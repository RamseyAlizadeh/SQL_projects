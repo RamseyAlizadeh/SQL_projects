{
 "cells": [
  {
   "cell_type": "markdown",
   "id": "c09d5974",
   "metadata": {},
   "source": [
    "## 1. The oldest business in the world\n",
    "![image](Stiftskeller.jpg)\n",
    "<p><em>Image: St. Peter Stiftskeller, founded 803. Credit: <a href=\"https://commons.wikimedia.org/wiki/File:Eingang_zum_St._Peter_Stiftskeller.jpg\">Pakeha</a>.</em></p>\n",
    "<p>An important part of business is planning for the future and ensuring that the company survives changing market conditions. Some businesses do this really well and last for hundreds of years.</p>\n",
    "<p>BusinessFinancing.co.uk <a href=\"https://businessfinancing.co.uk/the-oldest-company-in-almost-every-country\">researched</a> the oldest company that is still in business in (almost) every country and compiled the results into a dataset. In this project, we'll explore that dataset to see what they found.</p>\n",
    "<p>The database contains three tables.</p>\n",
    "<h3 id=\"categories\"><code>categories</code></h3>\n",
    "<table>\n",
    "<thead>\n",
    "<tr>\n",
    "<th style=\"text-align:left;\">column</th>\n",
    "<th>type</th>\n",
    "<th>meaning</th>\n",
    "</tr>\n",
    "</thead>\n",
    "<tbody>\n",
    "<tr>\n",
    "<td style=\"text-align:left;\"><code>category_code</code></td>\n",
    "<td>varchar</td>\n",
    "<td>Code for the category of the business.</td>\n",
    "</tr>\n",
    "<tr>\n",
    "<td style=\"text-align:left;\"><code>category</code></td>\n",
    "<td>varchar</td>\n",
    "<td>Description of the business category.</td>\n",
    "</tr>\n",
    "</tbody>\n",
    "</table>\n",
    "<h3 id=\"countries\"><code>countries</code></h3>\n",
    "<table>\n",
    "<thead>\n",
    "<tr>\n",
    "<th style=\"text-align:left;\">column</th>\n",
    "<th>type</th>\n",
    "<th>meaning</th>\n",
    "</tr>\n",
    "</thead>\n",
    "<tbody>\n",
    "<tr>\n",
    "<td style=\"text-align:left;\"><code>country_code</code></td>\n",
    "<td>varchar</td>\n",
    "<td>ISO 3166-1 3-letter country code.</td>\n",
    "</tr>\n",
    "<tr>\n",
    "<td style=\"text-align:left;\"><code>country</code></td>\n",
    "<td>varchar</td>\n",
    "<td>Name of the country.</td>\n",
    "</tr>\n",
    "<tr>\n",
    "<td style=\"text-align:left;\"><code>continent</code></td>\n",
    "<td>varchar</td>\n",
    "<td>Name of the continent that the country exists in.</td>\n",
    "</tr>\n",
    "</tbody>\n",
    "</table>\n",
    "<h3 id=\"businesses\"><code>businesses</code></h3>\n",
    "<table>\n",
    "<thead>\n",
    "<tr>\n",
    "<th style=\"text-align:left;\">column</th>\n",
    "<th>type</th>\n",
    "<th>meaning</th>\n",
    "</tr>\n",
    "</thead>\n",
    "<tbody>\n",
    "<tr>\n",
    "<td style=\"text-align:left;\"><code>business</code></td>\n",
    "<td>varchar</td>\n",
    "<td>Name of the business.</td>\n",
    "</tr>\n",
    "<tr>\n",
    "<td style=\"text-align:left;\"><code>year_founded</code></td>\n",
    "<td>int</td>\n",
    "<td>Year the business was founded.</td>\n",
    "</tr>\n",
    "<tr>\n",
    "<td style=\"text-align:left;\"><code>category_code</code></td>\n",
    "<td>varchar</td>\n",
    "<td>Code for the category of the business.</td>\n",
    "</tr>\n",
    "<tr>\n",
    "<td style=\"text-align:left;\"><code>country_code</code></td>\n",
    "<td>char</td>\n",
    "<td>ISO 3166-1 3-letter country code.</td>\n",
    "</tr>\n",
    "</tbody>\n",
    "</table>\n",
    "<p>Let's begin by looking at the range of the founding years throughout the world.</p>"
   ]
  },
  {
   "cell_type": "code",
   "execution_count": null,
   "id": "17ccbbf2",
   "metadata": {
    "dc": {
     "key": "3"
    },
    "tags": [
     "sample_code"
    ]
   },
   "outputs": [],
   "source": [
    "-- Select the oldest and newest founding years from the businesses table\n",
    "\n",
    "SELECT MIN(year_founded), MAX(year_founded)\n",
    "    FROM businesses;"
   ]
  },
  {
   "cell_type": "markdown",
   "id": "d4129dda",
   "metadata": {
    "dc": {
     "key": "12"
    },
    "deletable": false,
    "editable": false,
    "run_control": {
     "frozen": true
    },
    "tags": [
     "context"
    ]
   },
   "source": [
    "## 2. How many businesses were founded before 1000?\n",
    "<p>Wow! That's a lot of variation between countries. In one country, the oldest business was only founded in 1999. By contrast, the oldest business in the world was founded back in 578. That's pretty incredible that a business has survived for more than a millennium.</p>\n",
    "<p>I wonder how many other businesses there are like that.</p>"
   ]
  },
  {
   "cell_type": "code",
   "execution_count": null,
   "id": "c90aa375",
   "metadata": {
    "dc": {
     "key": "12"
    },
    "tags": [
     "sample_code"
    ]
   },
   "outputs": [],
   "source": [
    "-- Get the count of rows in businesses where the founding year was before 1000\n",
    "\n",
    "SELECT COUNT (*)  \n",
    "    FROM businesses\n",
    "    WHERE year_founded <1000;"
   ]
  },
  {
   "cell_type": "markdown",
   "id": "8d7611c9",
   "metadata": {
    "dc": {
     "key": "19"
    },
    "deletable": false,
    "editable": false,
    "run_control": {
     "frozen": true
    },
    "tags": [
     "context"
    ]
   },
   "source": [
    "## 3. Which businesses were founded before 1000?\n",
    "<p>Having a count is all very well, but I'd like more detail. Which businesses have been around for more than a millennium?</p>"
   ]
  },
  {
   "cell_type": "code",
   "execution_count": null,
   "id": "8098833f",
   "metadata": {
    "dc": {
     "key": "19"
    },
    "tags": [
     "sample_code"
    ]
   },
   "outputs": [],
   "source": [
    "-- Select all columns from businesses where the founding year was before 1000\n",
    "-- Arrange the results from oldest to newest\n",
    "SELECT *\n",
    "    FROM businesses\n",
    "    WHERE year_founded<1000 \n",
    "    ORDER BY year_founded;"
   ]
  },
  {
   "cell_type": "markdown",
   "id": "6a2fd133",
   "metadata": {
    "dc": {
     "key": "26"
    },
    "run_control": {
     "frozen": true
    },
    "tags": [
     "context"
    ]
   },
   "source": [
    "## 4. Exploring the categories\n",
    "<p>Now we know that the oldest, continuously operating company in the world is called Kongō Gumi. But was does that company do? The category codes in the <code>businesses</code> table aren't very helpful: the descriptions of the categories are stored in the <code>categories</code> table.</p>\n",
    "<p>This is a common problem: for data storage, it's better to keep different types of data in different tables, but for analysis, we want all the data in one place. To solve this, we'll have to join the two tables together.</p>"
   ]
  },
  {
   "cell_type": "code",
   "execution_count": null,
   "id": "b1d9e199",
   "metadata": {
    "dc": {
     "key": "26"
    },
    "tags": [
     "sample_code"
    ]
   },
   "outputs": [],
   "source": [
    "-- Select business name, founding year, and country code from businesses; and category from categories\n",
    "-- where the founding year was before 1000, arranged from oldest to newest\n",
    "\n",
    "SELECT b.business, b.year_founded, b.country_code, c.category\n",
    "    FROM businesses b\n",
    "    JOIN categories c\n",
    "        ON b.category_code = c.category_code\n",
    "    WHERE b.year_founded < 1000\n",
    "    ORDER BY b.year_founded;"
   ]
  },
  {
   "cell_type": "markdown",
   "id": "719adb7e",
   "metadata": {
    "dc": {
     "key": "33"
    },
    "deletable": false,
    "editable": false,
    "run_control": {
     "frozen": true
    },
    "tags": [
     "context"
    ]
   },
   "source": [
    "## 5. Counting the categories\n",
    "<p>With that extra detail about the oldest businesses, we can see that Kongō Gumi is a construction company. In that list of six businesses, we also see a café, a winery, and a bar. The two companies recorded as \"Manufacturing and Production\" are both mints. That is, they produce currency.</p>\n",
    "<p>I'm curious as to what other industries constitute the oldest companies around the world, and which industries are most common.</p>"
   ]
  },
  {
   "cell_type": "code",
   "execution_count": null,
   "id": "ee431b59",
   "metadata": {
    "dc": {
     "key": "33"
    },
    "tags": [
     "sample_code"
    ]
   },
   "outputs": [],
   "source": [
    "-- Select the category and count of category (as \"n\")\n",
    "-- arranged by descending count, limited to 10 most common categories\n",
    "\n",
    "SELECT c.category, COUNT(c.category) AS number_of_category\n",
    "    FROM businesses b\n",
    "    INNER JOIN categories c\n",
    "        ON b.category_code = c.category_code\n",
    "    GROUP BY c.category\n",
    "    ORDER BY number_of_category DESC\n",
    "    LIMIT 10;"
   ]
  },
  {
   "cell_type": "markdown",
   "id": "6f8e6010",
   "metadata": {
    "dc": {
     "key": "40"
    },
    "run_control": {
     "frozen": true
    },
    "tags": [
     "context"
    ]
   },
   "source": [
    "## 6. Oldest business by continent\n",
    "<p>It looks like \"Banking &amp; Finance\" is the most popular category. Maybe that's where we should aim if we want to start a thousand-year business.</p>\n",
    "<p>One thing we haven't looked at yet is where in the world these really old businesses are. To answer these questions, we'll need to join the <code>businesses</code> table to the <code>countries</code> table. Let's start by asking how old the oldest business is on each continent.</p>"
   ]
  },
  {
   "cell_type": "code",
   "execution_count": null,
   "id": "7619acf3",
   "metadata": {
    "dc": {
     "key": "40"
    },
    "tags": [
     "sample_code"
    ]
   },
   "outputs": [],
   "source": [
    "-- Select the oldest founding year (as \"oldest\") from businesses, \n",
    "-- and continent from countries\n",
    "-- for each continent, ordered from oldest to newest \n",
    "\n",
    "SELECT cnt.continent, MIN(b.year_founded) as oldest_business\n",
    "    FROM businesses b\n",
    "    INNER JOIN countries as cnt\n",
    "        ON b.country_code = cnt.country_code\n",
    "    GROUP BY continent\n",
    "    ORDER BY oldest_business;"
   ]
  },
  {
   "cell_type": "markdown",
   "id": "66e2194e",
   "metadata": {
    "dc": {
     "key": "47"
    },
    "run_control": {
     "frozen": true
    },
    "tags": [
     "context"
    ]
   },
   "source": [
    "## 7. Joining everything for further analysis\n",
    "<p>Interesting. There's a jump in time from the older businesses in Asia and Europe to the 16th Century oldest businesses in North and South America, then to the 18th and 19th Century oldest businesses in Africa and Oceania. </p>\n",
    "<p>As mentioned earlier, when analyzing data it's often really helpful to have all the tables we want access to joined together into a single set of results that can be analyzed further. Here, that means we need to join all three tables.</p>"
   ]
  },
  {
   "cell_type": "code",
   "execution_count": null,
   "id": "5aa02664",
   "metadata": {
    "dc": {
     "key": "47"
    },
    "tags": [
     "sample_code"
    ]
   },
   "outputs": [],
   "source": [
    "-- Select the business, founding year, category, country, and continent\n",
    "\n",
    "SELECT b.business, b.year_founded, cat.category, c.country, c.continent\n",
    "    FROM businesses b\n",
    "    JOIN categories cat\n",
    "        ON b.category_code = cat.category_code\n",
    "    JOIN countries c\n",
    "        ON b.country_code = c.country_code;"
   ]
  },
  {
   "cell_type": "markdown",
   "id": "a454da8f",
   "metadata": {
    "dc": {
     "key": "54"
    },
    "deletable": false,
    "editable": false,
    "run_control": {
     "frozen": true
    },
    "tags": [
     "context"
    ]
   },
   "source": [
    "## 8. Counting categories by continent\n",
    "<p>Having <code>businesses</code> joined to <code>categories</code> and <code>countries</code> together means we can ask questions about both these things together. For example, which are the most common categories for the oldest businesses on each continent?</p>"
   ]
  },
  {
   "cell_type": "code",
   "execution_count": null,
   "id": "3566531f",
   "metadata": {
    "dc": {
     "key": "54"
    },
    "scrolled": true,
    "tags": [
     "sample_code"
    ]
   },
   "outputs": [],
   "source": [
    "-- Count the number of businesses in each continent and category\n",
    "\n",
    "SELECT c.continent, cat.category, COUNT(*) AS n\n",
    "    FROM businesses b\n",
    "    JOIN categories cat\n",
    "        ON b.category_code = cat.category_code\n",
    "    JOIN countries c\n",
    "        ON b.country_code = c.country_code\n",
    "    GROUP BY c.continent, cat.category\n",
    "    ORDER BY c.continent;"
   ]
  },
  {
   "cell_type": "markdown",
   "id": "4cc5e13a",
   "metadata": {
    "dc": {
     "key": "61"
    },
    "deletable": false,
    "editable": false,
    "run_control": {
     "frozen": true
    },
    "tags": [
     "context"
    ]
   },
   "source": [
    "## 9. Filtering counts by continent and category\n",
    "<p>Combining continent and business category led to a lot of results. It's difficult to see what is important. To trim this down to a manageable size, let's restrict the results to only continent/category pairs with a high count.</p>"
   ]
  },
  {
   "cell_type": "code",
   "execution_count": null,
   "id": "765f410f",
   "metadata": {
    "dc": {
     "key": "61"
    },
    "tags": [
     "sample_code"
    ]
   },
   "outputs": [],
   "source": [
    "-- Repeat that previous query, filtering for results having a count greater than 5\n",
    "\n",
    "SELECT c.continent, cat.category, COUNT(*) AS n\n",
    "    FROM businesses b\n",
    "    JOIN categories cat\n",
    "        ON b.category_code = cat.category_code\n",
    "    JOIN countries c\n",
    "        ON b.country_code = c.country_code\n",
    "    GROUP BY c.continent, cat.category\n",
    "    HAVING COUNT(*) > 5\n",
    "    ORDER BY n DESC;"
   ]
  }
 ],
 "metadata": {
  "kernelspec": {
   "display_name": "Python 3 (ipykernel)",
   "language": "python",
   "name": "python3"
  },
  "language_info": {
   "codemirror_mode": {
    "name": "ipython",
    "version": 3
   },
   "file_extension": ".py",
   "mimetype": "text/x-python",
   "name": "python",
   "nbconvert_exporter": "python",
   "pygments_lexer": "ipython3",
   "version": "3.9.12"
  }
 },
 "nbformat": 4,
 "nbformat_minor": 5
}
